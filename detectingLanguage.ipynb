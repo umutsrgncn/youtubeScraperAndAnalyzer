{
 "cells": [
  {
   "cell_type": "code",
   "execution_count": null,
   "metadata": {},
   "outputs": [],
   "source": [
    "import os\n",
    "import csv\n",
    "import pandas as pd\n",
    "from google.cloud import translate_v2"
   ]
  },
  {
   "cell_type": "code",
   "execution_count": null,
   "metadata": {},
   "outputs": [],
   "source": [
    "filePath=r\"C:\\Users\\User\\Desktop\\youtubeScraper\""
   ]
  },
  {
   "cell_type": "code",
   "execution_count": null,
   "metadata": {},
   "outputs": [],
   "source": [
    "os.environ['GOOGLE_APPLICATION_CREDENTIALS'] = r'C:\\Users\\User\\Desktop\\youtubeScraper\\key.json'\n",
    "translate_client = translate_v2.Client()"
   ]
  },
  {
   "cell_type": "code",
   "execution_count": null,
   "metadata": {},
   "outputs": [],
   "source": [
    "df = pd.read_csv (r'C:/Users/User/Desktop/youtubeScraper/rpERSigjqXs.csv',encoding='utf-8', error_bad_lines=False )\n",
    "df['Comment'][0]"
   ]
  },
  {
   "cell_type": "code",
   "execution_count": null,
   "metadata": {},
   "outputs": [],
   "source": [
    "with open(filePath+\"/\"+\"turkish.csv\", mode='w', newline='') as newFile:\n",
    "        newWriter = csv.writer(newFile, delimiter=',', quotechar='\"', quoting=csv.QUOTE_MINIMAL) \n",
    "        newWriter.writerow(['Comment'])\n",
    "        newFile.close()"
   ]
  },
  {
   "cell_type": "code",
   "execution_count": null,
   "metadata": {},
   "outputs": [],
   "source": [
    "text=[]\n",
    "for k in range(len(df)):\n",
    "    try:\n",
    "        text.append(df['Comment'][k])\n",
    "    except:\n",
    "        pass"
   ]
  },
  {
   "cell_type": "code",
   "execution_count": null,
   "metadata": {},
   "outputs": [],
   "source": [
    "for i in range(len(text)):\n",
    "    try:\n",
    "        inputString=(text[i])\n",
    "        result=translate_client.detect_language(inputString)\n",
    "        if result['language']==\"tr\":\n",
    "            with open(filePath+\"/\"+\"turkish.csv\", mode='a', newline='') as newFile:\n",
    "                                newWriter = csv.writer(newFile, delimiter=',', quotechar='\"', quoting=csv.QUOTE_MINIMAL) \n",
    "                                newWriter.writerow([inputString])\n",
    "                                newFile.close()\n",
    "    except:\n",
    "        pass\n",
    "        "
   ]
  },
  {
   "cell_type": "code",
   "execution_count": null,
   "metadata": {},
   "outputs": [],
   "source": []
  }
 ],
 "metadata": {
  "kernelspec": {
   "display_name": "Python 3",
   "language": "python",
   "name": "python3"
  },
  "language_info": {
   "codemirror_mode": {
    "name": "ipython",
    "version": 3
   },
   "file_extension": ".py",
   "mimetype": "text/x-python",
   "name": "python",
   "nbconvert_exporter": "python",
   "pygments_lexer": "ipython3",
   "version": "3.8.3"
  }
 },
 "nbformat": 4,
 "nbformat_minor": 4
}
