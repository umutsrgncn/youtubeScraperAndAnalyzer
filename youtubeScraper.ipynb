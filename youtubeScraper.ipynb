{
 "cells": [
  {
   "cell_type": "code",
   "execution_count": null,
   "metadata": {},
   "outputs": [],
   "source": [
    "import os\n",
    "import csv\n",
    "import googleapiclient.discovery"
   ]
  },
  {
   "cell_type": "code",
   "execution_count": null,
   "metadata": {},
   "outputs": [],
   "source": [
    "saveLocation = input(\"Save location: \"+\"r'\")+(\"/\")"
   ]
  },
  {
   "cell_type": "markdown",
   "metadata": {},
   "source": [
    "saveLocation = \"C:\\Users\\User\\Desktop\\youtubeScraper\""
   ]
  },
  {
   "cell_type": "code",
   "execution_count": null,
   "metadata": {},
   "outputs": [],
   "source": [
    "ID=input(\"Youtube video ID: \")"
   ]
  },
  {
   "cell_type": "markdown",
   "metadata": {},
   "source": [
    "Link = \"https://www.youtube.com/watch?v=rpERSigjqXs\"  \n",
    "ID = \"rpERSigjqXs\""
   ]
  },
  {
   "cell_type": "code",
   "execution_count": null,
   "metadata": {},
   "outputs": [],
   "source": [
    "with open(saveLocation+ID+\".csv\", mode='w', newline='',encoding=\"utf-8\") as newFile:\n",
    "        newWriter = csv.writer(newFile, delimiter=',', quotechar='\"', quoting=csv.QUOTE_MINIMAL) \n",
    "        newWriter.writerow(['Comment'])\n",
    "        newFile.close()"
   ]
  },
  {
   "cell_type": "code",
   "execution_count": null,
   "metadata": {},
   "outputs": [],
   "source": [
    "def main():\n",
    "    os.environ[\"OAUTHLIB_INSECURE_TRANSPORT\"] = \"1\"\n",
    "\n",
    "    api_service_name = \"youtube\"\n",
    "    api_version = \"v3\"\n",
    "    DEVELOPER_KEY = \"XXXXXXXXXXXXXXX\"\n",
    "\n",
    "    youtube = googleapiclient.discovery.build(\n",
    "        api_service_name, api_version, developerKey = DEVELOPER_KEY)\n",
    "\n",
    "    request = youtube.commentThreads().list(part='snippet',order=\"relevance\",\n",
    "    videoId=ID, maxResults='1000', textFormat=\"plainText\").execute()\n",
    "    for i in request[\"items\"]:\n",
    "        comment = i[\"snippet\"]['topLevelComment'][\"snippet\"][\"textDisplay\"]\n",
    "        #likes = i[\"snippet\"]['topLevelComment'][\"snippet\"]['likeCount']\n",
    "        print(comment)\n",
    "        with open(saveLocation+ID+\".csv\", mode='a', newline='',encoding=\"utf-8\") as newFile:\n",
    "                newWriter = csv.writer(newFile, delimiter=',', quotechar='\"', quoting=csv.QUOTE_MINIMAL) \n",
    "                newWriter.writerow([comment])\n",
    "                newFile.close()\n",
    "        \n",
    "    while (\"nextPageToken\" in request):\n",
    "        request = youtube.commentThreads().list(part='snippet',order=\"relevance\", videoId=ID, maxResults='1000', \n",
    "        pageToken=request[\"nextPageToken\"], textFormat=\"plainText\").execute()\n",
    "        for i in request[\"items\"]:\n",
    "            comment = i[\"snippet\"]['topLevelComment'][\"snippet\"][\"textDisplay\"]\n",
    "            #likes = i[\"snippet\"]['topLevelComment'][\"snippet\"]['likeCount']\n",
    "            print(comment)\n",
    "            with open(saveLocation+ID+\".csv\", mode='a', newline='',encoding=\"utf-8\") as newFile:\n",
    "                newWriter = csv.writer(newFile, delimiter=',', quotechar='\"', quoting=csv.QUOTE_MINIMAL) \n",
    "                newWriter.writerow([comment])\n",
    "                newFile.close()"
   ]
  },
  {
   "cell_type": "code",
   "execution_count": null,
   "metadata": {},
   "outputs": [],
   "source": [
    "if __name__ == \"__main__\":\n",
    "    main()"
   ]
  },
  {
   "cell_type": "code",
   "execution_count": null,
   "metadata": {},
   "outputs": [],
   "source": []
  }
 ],
 "metadata": {
  "kernelspec": {
   "display_name": "Python 3",
   "language": "python",
   "name": "python3"
  },
  "language_info": {
   "codemirror_mode": {
    "name": "ipython",
    "version": 3
   },
   "file_extension": ".py",
   "mimetype": "text/x-python",
   "name": "python",
   "nbconvert_exporter": "python",
   "pygments_lexer": "ipython3",
   "version": "3.8.3"
  }
 },
 "nbformat": 4,
 "nbformat_minor": 4
}
